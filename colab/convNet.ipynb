{
  "nbformat": 4,
  "nbformat_minor": 0,
  "metadata": {
    "colab": {
      "name": "convNet.ipynb",
      "provenance": [],
      "collapsed_sections": []
    },
    "kernelspec": {
      "name": "python3",
      "display_name": "Python 3"
    },
    "accelerator": "TPU"
  },
  "cells": [
    {
      "cell_type": "markdown",
      "metadata": {
        "id": "view-in-github",
        "colab_type": "text"
      },
      "source": [
        "<a href=\"https://colab.research.google.com/github/mnansary/pyF2O/blob/master/colab_gen_unet.ipynb\" target=\"_parent\"><img src=\"https://colab.research.google.com/assets/colab-badge.svg\" alt=\"Open In Colab\"/></a>"
      ]
    },
    {
      "cell_type": "markdown",
      "metadata": {
        "id": "1ojVYZ7Spzpv",
        "colab_type": "text"
      },
      "source": [
        "# colab specific task\n",
        "*   mount google drive\n",
        "*   change working directory to git repo\n",
        "*   TPU check\n",
        "\n"
      ]
    },
    {
      "cell_type": "code",
      "metadata": {
        "id": "wvYke-OflNB2",
        "colab_type": "code",
        "colab": {
          "base_uri": "https://localhost:8080/",
          "height": 374
        },
        "outputId": "7c952b0c-3779-42ef-ab49-f44b1e256763"
      },
      "source": [
        "!pip3 install tensorflow==1.13.1"
      ],
      "execution_count": 1,
      "outputs": [
        {
          "output_type": "stream",
          "text": [
            "Requirement already satisfied: tensorflow==1.13.1 in /usr/local/lib/python3.6/dist-packages (1.13.1)\n",
            "Requirement already satisfied: absl-py>=0.1.6 in /usr/local/lib/python3.6/dist-packages (from tensorflow==1.13.1) (0.8.1)\n",
            "Requirement already satisfied: numpy>=1.13.3 in /usr/local/lib/python3.6/dist-packages (from tensorflow==1.13.1) (1.17.4)\n",
            "Requirement already satisfied: tensorboard<1.14.0,>=1.13.0 in /usr/local/lib/python3.6/dist-packages (from tensorflow==1.13.1) (1.13.1)\n",
            "Requirement already satisfied: termcolor>=1.1.0 in /usr/local/lib/python3.6/dist-packages (from tensorflow==1.13.1) (1.1.0)\n",
            "Requirement already satisfied: protobuf>=3.6.1 in /usr/local/lib/python3.6/dist-packages (from tensorflow==1.13.1) (3.10.0)\n",
            "Requirement already satisfied: tensorflow-estimator<1.14.0rc0,>=1.13.0 in /usr/local/lib/python3.6/dist-packages (from tensorflow==1.13.1) (1.13.0)\n",
            "Requirement already satisfied: wheel>=0.26 in /usr/local/lib/python3.6/dist-packages (from tensorflow==1.13.1) (0.33.6)\n",
            "Requirement already satisfied: six>=1.10.0 in /usr/local/lib/python3.6/dist-packages (from tensorflow==1.13.1) (1.12.0)\n",
            "Requirement already satisfied: gast>=0.2.0 in /usr/local/lib/python3.6/dist-packages (from tensorflow==1.13.1) (0.2.2)\n",
            "Requirement already satisfied: astor>=0.6.0 in /usr/local/lib/python3.6/dist-packages (from tensorflow==1.13.1) (0.8.0)\n",
            "Requirement already satisfied: keras-preprocessing>=1.0.5 in /usr/local/lib/python3.6/dist-packages (from tensorflow==1.13.1) (1.1.0)\n",
            "Requirement already satisfied: keras-applications>=1.0.6 in /usr/local/lib/python3.6/dist-packages (from tensorflow==1.13.1) (1.0.8)\n",
            "Requirement already satisfied: grpcio>=1.8.6 in /usr/local/lib/python3.6/dist-packages (from tensorflow==1.13.1) (1.15.0)\n",
            "Requirement already satisfied: werkzeug>=0.11.15 in /usr/local/lib/python3.6/dist-packages (from tensorboard<1.14.0,>=1.13.0->tensorflow==1.13.1) (0.16.0)\n",
            "Requirement already satisfied: markdown>=2.6.8 in /usr/local/lib/python3.6/dist-packages (from tensorboard<1.14.0,>=1.13.0->tensorflow==1.13.1) (3.1.1)\n",
            "Requirement already satisfied: setuptools in /usr/local/lib/python3.6/dist-packages (from protobuf>=3.6.1->tensorflow==1.13.1) (41.6.0)\n",
            "Requirement already satisfied: mock>=2.0.0 in /usr/local/lib/python3.6/dist-packages (from tensorflow-estimator<1.14.0rc0,>=1.13.0->tensorflow==1.13.1) (3.0.5)\n",
            "Requirement already satisfied: h5py in /usr/local/lib/python3.6/dist-packages (from keras-applications>=1.0.6->tensorflow==1.13.1) (2.8.0)\n"
          ],
          "name": "stdout"
        }
      ]
    },
    {
      "cell_type": "code",
      "metadata": {
        "id": "--q4JaV2ps6z",
        "colab_type": "code",
        "outputId": "e575396e-f8a4-4c55-c05d-daac56d13447",
        "colab": {
          "base_uri": "https://localhost:8080/",
          "height": 54
        }
      },
      "source": [
        "from google.colab import drive\n",
        "drive.mount('/content/gdrive')\n"
      ],
      "execution_count": 2,
      "outputs": [
        {
          "output_type": "stream",
          "text": [
            "Drive already mounted at /content/gdrive; to attempt to forcibly remount, call drive.mount(\"/content/gdrive\", force_remount=True).\n"
          ],
          "name": "stdout"
        }
      ]
    },
    {
      "cell_type": "code",
      "metadata": {
        "id": "IsVhQoAOqGGW",
        "colab_type": "code",
        "outputId": "2b20a880-c092-4a64-e951-7a6f6a7c4adb",
        "colab": {
          "base_uri": "https://localhost:8080/",
          "height": 34
        }
      },
      "source": [
        "cd /content/gdrive/My\\ Drive/PROJECTS/MED/pySKIND"
      ],
      "execution_count": 3,
      "outputs": [
        {
          "output_type": "stream",
          "text": [
            "/content/gdrive/My Drive/PROJECTS/MED/pySKIND\n"
          ],
          "name": "stdout"
        }
      ]
    },
    {
      "cell_type": "markdown",
      "metadata": {
        "id": "692-uM-yqdaF",
        "colab_type": "text"
      },
      "source": [
        "## TPU Check"
      ]
    },
    {
      "cell_type": "code",
      "metadata": {
        "id": "JT9QkSiJqed6",
        "colab_type": "code",
        "outputId": "2c2573f2-5154-4cc4-cf6c-8485b8255309",
        "colab": {
          "base_uri": "https://localhost:8080/",
          "height": 498
        }
      },
      "source": [
        "import os\n",
        "import pprint\n",
        "import tensorflow as tf\n",
        "\n",
        "if 'COLAB_TPU_ADDR' not in os.environ:\n",
        "  print('ERROR: Not connected to a TPU runtime; please see the first cell in this notebook for instructions!')\n",
        "else:\n",
        "  tpu_address = 'grpc://' + os.environ['COLAB_TPU_ADDR']\n",
        "  print ('TPU address is', tpu_address)\n",
        "\n",
        "  with tf.Session(tpu_address) as session:\n",
        "    devices = session.list_devices()\n",
        "    \n",
        "  print('TPU devices:')\n",
        "  pprint.pprint(devices)\n",
        "\n",
        "tf.__version__"
      ],
      "execution_count": 4,
      "outputs": [
        {
          "output_type": "stream",
          "text": [
            "/usr/local/lib/python3.6/dist-packages/tensorflow/python/framework/dtypes.py:526: FutureWarning: Passing (type, 1) or '1type' as a synonym of type is deprecated; in a future version of numpy, it will be understood as (type, (1,)) / '(1,)type'.\n",
            "  _np_qint8 = np.dtype([(\"qint8\", np.int8, 1)])\n",
            "/usr/local/lib/python3.6/dist-packages/tensorflow/python/framework/dtypes.py:527: FutureWarning: Passing (type, 1) or '1type' as a synonym of type is deprecated; in a future version of numpy, it will be understood as (type, (1,)) / '(1,)type'.\n",
            "  _np_quint8 = np.dtype([(\"quint8\", np.uint8, 1)])\n",
            "/usr/local/lib/python3.6/dist-packages/tensorflow/python/framework/dtypes.py:528: FutureWarning: Passing (type, 1) or '1type' as a synonym of type is deprecated; in a future version of numpy, it will be understood as (type, (1,)) / '(1,)type'.\n",
            "  _np_qint16 = np.dtype([(\"qint16\", np.int16, 1)])\n",
            "/usr/local/lib/python3.6/dist-packages/tensorflow/python/framework/dtypes.py:529: FutureWarning: Passing (type, 1) or '1type' as a synonym of type is deprecated; in a future version of numpy, it will be understood as (type, (1,)) / '(1,)type'.\n",
            "  _np_quint16 = np.dtype([(\"quint16\", np.uint16, 1)])\n",
            "/usr/local/lib/python3.6/dist-packages/tensorflow/python/framework/dtypes.py:530: FutureWarning: Passing (type, 1) or '1type' as a synonym of type is deprecated; in a future version of numpy, it will be understood as (type, (1,)) / '(1,)type'.\n",
            "  _np_qint32 = np.dtype([(\"qint32\", np.int32, 1)])\n",
            "/usr/local/lib/python3.6/dist-packages/tensorflow/python/framework/dtypes.py:535: FutureWarning: Passing (type, 1) or '1type' as a synonym of type is deprecated; in a future version of numpy, it will be understood as (type, (1,)) / '(1,)type'.\n",
            "  np_resource = np.dtype([(\"resource\", np.ubyte, 1)])\n"
          ],
          "name": "stderr"
        },
        {
          "output_type": "stream",
          "text": [
            "TPU address is grpc://10.30.208.186:8470\n",
            "TPU devices:\n",
            "[_DeviceAttributes(/job:tpu_worker/replica:0/task:0/device:CPU:0, CPU, -1, 9316062545368288133),\n",
            " _DeviceAttributes(/job:tpu_worker/replica:0/task:0/device:XLA_CPU:0, XLA_CPU, 17179869184, 15573411997128901649),\n",
            " _DeviceAttributes(/job:tpu_worker/replica:0/task:0/device:TPU:0, TPU, 17179869184, 9239542659574822989),\n",
            " _DeviceAttributes(/job:tpu_worker/replica:0/task:0/device:TPU:1, TPU, 17179869184, 10832811243357329627),\n",
            " _DeviceAttributes(/job:tpu_worker/replica:0/task:0/device:TPU:2, TPU, 17179869184, 4790302186435233205),\n",
            " _DeviceAttributes(/job:tpu_worker/replica:0/task:0/device:TPU:3, TPU, 17179869184, 2651493976323167558),\n",
            " _DeviceAttributes(/job:tpu_worker/replica:0/task:0/device:TPU:4, TPU, 17179869184, 18062288317953598376),\n",
            " _DeviceAttributes(/job:tpu_worker/replica:0/task:0/device:TPU:5, TPU, 17179869184, 16218422528423193888),\n",
            " _DeviceAttributes(/job:tpu_worker/replica:0/task:0/device:TPU:6, TPU, 17179869184, 16748658477195237103),\n",
            " _DeviceAttributes(/job:tpu_worker/replica:0/task:0/device:TPU:7, TPU, 17179869184, 8800013667706450667),\n",
            " _DeviceAttributes(/job:tpu_worker/replica:0/task:0/device:TPU_SYSTEM:0, TPU_SYSTEM, 8589934592, 11826790926207313618)]\n"
          ],
          "name": "stdout"
        },
        {
          "output_type": "execute_result",
          "data": {
            "text/plain": [
              "'1.13.1'"
            ]
          },
          "metadata": {
            "tags": []
          },
          "execution_count": 4
        }
      ]
    },
    {
      "cell_type": "markdown",
      "metadata": {
        "id": "dxefiHZ4qlHA",
        "colab_type": "text"
      },
      "source": [
        "# ConvNet Model Training"
      ]
    },
    {
      "cell_type": "markdown",
      "metadata": {
        "id": "o2usCWY1Fc6E",
        "colab_type": "text"
      },
      "source": [
        "### Data"
      ]
    },
    {
      "cell_type": "code",
      "metadata": {
        "id": "Tdzez_PiFVTM",
        "colab_type": "code",
        "cellView": "both",
        "outputId": "30056058-160f-4b05-ced4-550ca49d1627",
        "colab": {
          "base_uri": "https://localhost:8080/",
          "height": 87
        }
      },
      "source": [
        "import sys\n",
        "sys.path.append('.')\n",
        "\n",
        "from coreLib.utils import readh5\n",
        "import numpy as np \n",
        "class PARAMS:\n",
        "    DS_DIR  = '/content/gdrive/My Drive/PROJECTS/MED/Train/' # @param\n",
        "    BATCH_SIZE      = 1024  # @param\n",
        "    NUM_EPOCHS      = 100  # @param\n",
        "    IMAGE_DIM       = 64  # @param\n",
        "    NB_CHANNELS     = 3    # @param\n",
        "    X_TRAIN_IDEN    = 'X_train.h5'  # @param\n",
        "    Y_TRAIN_IDEN    = 'Y_train.h5'  # @param\n",
        "    X_EVAL_IDEN     = 'X_eval.h5'  # @param\n",
        "    Y_EVAL_IDEN     = 'Y_eval.h5'  # @param\n",
        "    MODEL_DIR       = '/content/gdrive/My Drive/PROJECTS/MED/MODEL_DIR/' # @param\n",
        "    MODEL_NAME      = 'convNet' # @param\n",
        "\n",
        "X_train=readh5(os.path.join(PARAMS.DS_DIR,PARAMS.X_TRAIN_IDEN))\n",
        "Y_train=readh5(os.path.join(PARAMS.DS_DIR,PARAMS.Y_TRAIN_IDEN))\n",
        "X_eval=readh5(os.path.join(PARAMS.DS_DIR,PARAMS.X_EVAL_IDEN))\n",
        "Y_eval=readh5(os.path.join(PARAMS.DS_DIR,PARAMS.Y_EVAL_IDEN))\n",
        "\n",
        "X_train=X_train.astype('float32')/255.0\n",
        "X_eval=X_eval.astype('float32')/255.0\n",
        "\n",
        "print(X_train.shape)\n",
        "print(Y_train.shape)\n",
        "print(X_eval.shape)\n",
        "print(Y_eval.shape)\n"
      ],
      "execution_count": 5,
      "outputs": [
        {
          "output_type": "stream",
          "text": [
            "(26624, 64, 64, 3)\n",
            "(26624, 2)\n",
            "(1024, 64, 64, 3)\n",
            "(1024, 2)\n"
          ],
          "name": "stdout"
        }
      ]
    },
    {
      "cell_type": "markdown",
      "metadata": {
        "id": "blwtSzOarVYM",
        "colab_type": "text"
      },
      "source": [
        "### Compile Model"
      ]
    },
    {
      "cell_type": "code",
      "metadata": {
        "id": "BOro7D1krWYf",
        "colab_type": "code",
        "outputId": "c11526b7-b7b8-45df-8060-8e0531932da9",
        "colab": {
          "base_uri": "https://localhost:8080/",
          "height": 712
        }
      },
      "source": [
        "from tensorflow.keras.optimizers import Adam\n",
        "from tensorflow.keras.losses import categorical_crossentropy\n",
        "from coreLib.models import conv_net\n",
        "'''\n",
        "resolver = tf.contrib.cluster_resolver.TPUClusterResolver(tpu_address)\n",
        "tf.contrib.distribute.initialize_tpu_system(resolver)\n",
        "strategy = tf.contrib.distribute.TPUStrategy(resolver)\n",
        "with strategy.scope():\n",
        "'''\n",
        "model=conv_net(img_dim=PARAMS.IMAGE_DIM,nb_channels=PARAMS.NB_CHANNELS)\n",
        "model.summary()\n",
        "model.compile(optimizer=Adam(), \n",
        "              loss=categorical_crossentropy,\n",
        "              metrics=['accuracy'])"
      ],
      "execution_count": 6,
      "outputs": [
        {
          "output_type": "stream",
          "text": [
            "WARNING:tensorflow:From /usr/local/lib/python3.6/dist-packages/tensorflow/python/ops/resource_variable_ops.py:435: colocate_with (from tensorflow.python.framework.ops) is deprecated and will be removed in a future version.\n",
            "Instructions for updating:\n",
            "Colocations handled automatically by placer.\n",
            "_________________________________________________________________\n",
            "Layer (type)                 Output Shape              Param #   \n",
            "=================================================================\n",
            "conv2d (Conv2D)              (None, 63, 63, 64)        832       \n",
            "_________________________________________________________________\n",
            "max_pooling2d (MaxPooling2D) (None, 31, 31, 64)        0         \n",
            "_________________________________________________________________\n",
            "conv2d_1 (Conv2D)            (None, 30, 30, 64)        16448     \n",
            "_________________________________________________________________\n",
            "max_pooling2d_1 (MaxPooling2 (None, 15, 15, 64)        0         \n",
            "_________________________________________________________________\n",
            "conv2d_2 (Conv2D)            (None, 14, 14, 128)       32896     \n",
            "_________________________________________________________________\n",
            "max_pooling2d_2 (MaxPooling2 (None, 7, 7, 128)         0         \n",
            "_________________________________________________________________\n",
            "conv2d_3 (Conv2D)            (None, 6, 6, 256)         131328    \n",
            "_________________________________________________________________\n",
            "max_pooling2d_3 (MaxPooling2 (None, 3, 3, 256)         0         \n",
            "_________________________________________________________________\n",
            "conv2d_4 (Conv2D)            (None, 2, 2, 512)         524800    \n",
            "_________________________________________________________________\n",
            "max_pooling2d_4 (MaxPooling2 (None, 1, 1, 512)         0         \n",
            "_________________________________________________________________\n",
            "flatten (Flatten)            (None, 512)               0         \n",
            "_________________________________________________________________\n",
            "dense (Dense)                (None, 256)               131328    \n",
            "_________________________________________________________________\n",
            "dense_1 (Dense)              (None, 512)               131584    \n",
            "_________________________________________________________________\n",
            "dense_2 (Dense)              (None, 2)                 1026      \n",
            "=================================================================\n",
            "Total params: 970,242\n",
            "Trainable params: 970,242\n",
            "Non-trainable params: 0\n",
            "_________________________________________________________________\n"
          ],
          "name": "stdout"
        }
      ]
    },
    {
      "cell_type": "markdown",
      "metadata": {
        "id": "9nQXx8YRNSyr",
        "colab_type": "text"
      },
      "source": [
        "### Train"
      ]
    },
    {
      "cell_type": "code",
      "metadata": {
        "id": "OWTUQlweNYYN",
        "colab_type": "code",
        "outputId": "411f286a-1b50-42a7-8480-cef6c5a1a037",
        "colab": {
          "base_uri": "https://localhost:8080/",
          "height": 1000
        }
      },
      "source": [
        "#from tensorflow.keras.callbacks import ModelCheckpoint   \n",
        "#checkpointer = ModelCheckpoint(filepath=os.path.join(PARAMS.MODEL_DIR,'{}.h5'.format(PARAMS.MODEL_NAME)), \n",
        "                               #verbose=1, \n",
        "                               #save_best_only=True)\n",
        "\n",
        "TPU_WORKER = 'grpc://' + os.environ['COLAB_TPU_ADDR']\n",
        "tf.logging.set_verbosity(tf.logging.INFO)\n",
        "\n",
        "model = tf.contrib.tpu.keras_to_tpu_model(model,\n",
        "                                          strategy=tf.contrib.tpu.TPUDistributionStrategy(tf.contrib.cluster_resolver.TPUClusterResolver(TPU_WORKER)))\n",
        "\n",
        "history=model.fit(X_train,Y_train,\n",
        "                  validation_data=(X_eval,Y_eval),\n",
        "                  epochs=PARAMS.NUM_EPOCHS,\n",
        "                  batch_size=PARAMS.BATCH_SIZE, \n",
        "                  verbose=1)#callbacks=[checkpointer],"
      ],
      "execution_count": 7,
      "outputs": [
        {
          "output_type": "stream",
          "text": [
            "\n",
            "WARNING: The TensorFlow contrib module will not be included in TensorFlow 2.0.\n",
            "For more information, please see:\n",
            "  * https://github.com/tensorflow/community/blob/master/rfcs/20180907-contrib-sunset.md\n",
            "  * https://github.com/tensorflow/addons\n",
            "If you depend on functionality not listed there, please file an issue.\n",
            "\n",
            "INFO:tensorflow:Querying Tensorflow master (grpc://10.30.208.186:8470) for TPU system metadata.\n",
            "INFO:tensorflow:Found TPU system:\n",
            "INFO:tensorflow:*** Num TPU Cores: 8\n",
            "INFO:tensorflow:*** Num TPU Workers: 1\n",
            "INFO:tensorflow:*** Num TPU Cores Per Worker: 8\n",
            "INFO:tensorflow:*** Available Device: _DeviceAttributes(/job:worker/replica:0/task:0/device:CPU:0, CPU, -1, 9316062545368288133)\n",
            "INFO:tensorflow:*** Available Device: _DeviceAttributes(/job:worker/replica:0/task:0/device:XLA_CPU:0, XLA_CPU, 17179869184, 15573411997128901649)\n",
            "INFO:tensorflow:*** Available Device: _DeviceAttributes(/job:worker/replica:0/task:0/device:TPU:0, TPU, 17179869184, 9239542659574822989)\n",
            "INFO:tensorflow:*** Available Device: _DeviceAttributes(/job:worker/replica:0/task:0/device:TPU:1, TPU, 17179869184, 10832811243357329627)\n",
            "INFO:tensorflow:*** Available Device: _DeviceAttributes(/job:worker/replica:0/task:0/device:TPU:2, TPU, 17179869184, 4790302186435233205)\n",
            "INFO:tensorflow:*** Available Device: _DeviceAttributes(/job:worker/replica:0/task:0/device:TPU:3, TPU, 17179869184, 2651493976323167558)\n",
            "INFO:tensorflow:*** Available Device: _DeviceAttributes(/job:worker/replica:0/task:0/device:TPU:4, TPU, 17179869184, 18062288317953598376)\n",
            "INFO:tensorflow:*** Available Device: _DeviceAttributes(/job:worker/replica:0/task:0/device:TPU:5, TPU, 17179869184, 16218422528423193888)\n",
            "INFO:tensorflow:*** Available Device: _DeviceAttributes(/job:worker/replica:0/task:0/device:TPU:6, TPU, 17179869184, 16748658477195237103)\n",
            "INFO:tensorflow:*** Available Device: _DeviceAttributes(/job:worker/replica:0/task:0/device:TPU:7, TPU, 17179869184, 8800013667706450667)\n",
            "INFO:tensorflow:*** Available Device: _DeviceAttributes(/job:worker/replica:0/task:0/device:TPU_SYSTEM:0, TPU_SYSTEM, 8589934592, 11826790926207313618)\n",
            "WARNING:tensorflow:tpu_model (from tensorflow.contrib.tpu.python.tpu.keras_support) is experimental and may change or be removed at any time, and without warning.\n",
            "INFO:tensorflow:Cloning Adam {'lr': 0.0010000000474974513, 'beta_1': 0.8999999761581421, 'beta_2': 0.9990000128746033, 'decay': 0.0, 'epsilon': 1e-07, 'amsgrad': False}\n",
            "INFO:tensorflow:Cloning Adam {'lr': 0.0010000000474974513, 'beta_1': 0.8999999761581421, 'beta_2': 0.9990000128746033, 'decay': 0.0, 'epsilon': 1e-07, 'amsgrad': False}\n",
            "Train on 26624 samples, validate on 1024 samples\n",
            "Epoch 1/100\n",
            "INFO:tensorflow:New input shapes; (re-)compiling: mode=train (# of cores 8), [TensorSpec(shape=(128,), dtype=tf.int32, name='core_id0'), TensorSpec(shape=(128, 64, 64, 3), dtype=tf.float32, name='conv2d_input_10'), TensorSpec(shape=(128, 2), dtype=tf.float32, name='dense_2_target_30')]\n",
            "INFO:tensorflow:Overriding default placeholder.\n",
            "INFO:tensorflow:Cloning Adam {'lr': 0.0010000000474974513, 'beta_1': 0.8999999761581421, 'beta_2': 0.9990000128746033, 'decay': 0.0, 'epsilon': 1e-07, 'amsgrad': False}\n",
            "INFO:tensorflow:Remapping placeholder for conv2d_input\n",
            "WARNING:tensorflow:From /usr/local/lib/python3.6/dist-packages/tensorflow/contrib/tpu/python/tpu/keras_support.py:302: to_float (from tensorflow.python.ops.math_ops) is deprecated and will be removed in a future version.\n",
            "Instructions for updating:\n",
            "Use tf.cast instead.\n",
            "INFO:tensorflow:KerasCrossShard: <tensorflow.python.keras.optimizers.Adam object at 0x7fa019f9f668> []\n",
            "WARNING:tensorflow:From /usr/local/lib/python3.6/dist-packages/tensorflow/python/ops/math_ops.py:3066: to_int32 (from tensorflow.python.ops.math_ops) is deprecated and will be removed in a future version.\n",
            "Instructions for updating:\n",
            "Use tf.cast instead.\n",
            "INFO:tensorflow:Started compiling\n",
            "INFO:tensorflow:Finished compiling. Time elapsed: 5.622558116912842 secs\n",
            "INFO:tensorflow:Setting weights on TPU model.\n",
            "INFO:tensorflow:CPU -> TPU lr: 0.0010000000474974513 {0.001}\n",
            "INFO:tensorflow:CPU -> TPU beta_1: 0.8999999761581421 {0.9}\n",
            "INFO:tensorflow:CPU -> TPU beta_2: 0.9990000128746033 {0.999}\n",
            "INFO:tensorflow:CPU -> TPU decay: 0.0 {0.0}\n",
            "WARNING:tensorflow:Cannot update non-variable config: epsilon\n",
            "WARNING:tensorflow:Cannot update non-variable config: amsgrad\n",
            "25600/26624 [===========================>..] - ETA: 0s - loss: 0.6786 - acc: 0.5705INFO:tensorflow:New input shapes; (re-)compiling: mode=eval (# of cores 8), [TensorSpec(shape=(128,), dtype=tf.int32, name='core_id_10'), TensorSpec(shape=(128, 64, 64, 3), dtype=tf.float32, name='conv2d_input_10'), TensorSpec(shape=(128, 2), dtype=tf.float32, name='dense_2_target_30')]\n",
            "INFO:tensorflow:Overriding default placeholder.\n",
            "INFO:tensorflow:Cloning Adam {'lr': 0.0010000000474974513, 'beta_1': 0.8999999761581421, 'beta_2': 0.9990000128746033, 'decay': 0.0, 'epsilon': 1e-07, 'amsgrad': False}\n",
            "INFO:tensorflow:Remapping placeholder for conv2d_input\n",
            "INFO:tensorflow:KerasCrossShard: <tensorflow.python.keras.optimizers.Adam object at 0x7fa0172ca390> []\n",
            "INFO:tensorflow:Started compiling\n",
            "INFO:tensorflow:Finished compiling. Time elapsed: 2.107588291168213 secs\n",
            "26624/26624 [==============================] - 22s 843us/sample - loss: 0.6774 - acc: 0.5726 - val_loss: 0.6466 - val_acc: 0.6328\n",
            "Epoch 2/100\n",
            "26624/26624 [==============================] - 5s 182us/sample - loss: 0.6435 - acc: 0.6246 - val_loss: 0.6054 - val_acc: 0.6797\n",
            "Epoch 3/100\n",
            "26624/26624 [==============================] - 5s 173us/sample - loss: 0.6216 - acc: 0.6482 - val_loss: 0.5932 - val_acc: 0.6836\n",
            "Epoch 4/100\n",
            "26624/26624 [==============================] - 4s 162us/sample - loss: 0.5961 - acc: 0.6700 - val_loss: 0.5760 - val_acc: 0.6953\n",
            "Epoch 5/100\n",
            "26624/26624 [==============================] - 4s 161us/sample - loss: 0.5652 - acc: 0.6925 - val_loss: 0.5271 - val_acc: 0.7090\n",
            "Epoch 6/100\n",
            "26624/26624 [==============================] - 4s 165us/sample - loss: 0.5078 - acc: 0.7310 - val_loss: 0.4906 - val_acc: 0.7432\n",
            "Epoch 7/100\n",
            "26624/26624 [==============================] - 5s 180us/sample - loss: 0.5411 - acc: 0.7081 - val_loss: 0.5323 - val_acc: 0.7236\n",
            "Epoch 8/100\n",
            "26624/26624 [==============================] - 5s 182us/sample - loss: 0.4512 - acc: 0.7726 - val_loss: 0.4243 - val_acc: 0.7852\n",
            "Epoch 9/100\n",
            "26624/26624 [==============================] - 5s 175us/sample - loss: 0.3876 - acc: 0.8126 - val_loss: 0.3834 - val_acc: 0.8262\n",
            "Epoch 10/100\n",
            "26624/26624 [==============================] - 5s 177us/sample - loss: 0.4007 - acc: 0.8037 - val_loss: 0.3768 - val_acc: 0.8145\n",
            "Epoch 11/100\n",
            "26624/26624 [==============================] - 5s 174us/sample - loss: 0.3265 - acc: 0.8479 - val_loss: 0.3912 - val_acc: 0.8037\n",
            "Epoch 12/100\n",
            "26624/26624 [==============================] - 5s 175us/sample - loss: 0.2578 - acc: 0.8874 - val_loss: 0.2789 - val_acc: 0.8799\n",
            "Epoch 13/100\n",
            "26624/26624 [==============================] - 5s 173us/sample - loss: 0.4478 - acc: 0.7874 - val_loss: 0.5803 - val_acc: 0.6846\n",
            "Epoch 14/100\n",
            "26624/26624 [==============================] - 5s 171us/sample - loss: 0.4973 - acc: 0.7386 - val_loss: 0.4222 - val_acc: 0.7871\n",
            "Epoch 15/100\n",
            "26624/26624 [==============================] - 5s 172us/sample - loss: 0.3191 - acc: 0.8601 - val_loss: 0.3201 - val_acc: 0.8457\n",
            "Epoch 16/100\n",
            "26624/26624 [==============================] - 4s 167us/sample - loss: 0.2145 - acc: 0.9096 - val_loss: 0.2623 - val_acc: 0.8916\n",
            "Epoch 17/100\n",
            "26624/26624 [==============================] - 5s 170us/sample - loss: 0.1675 - acc: 0.9332 - val_loss: 0.2000 - val_acc: 0.9209\n",
            "Epoch 18/100\n",
            "26624/26624 [==============================] - 5s 170us/sample - loss: 0.1255 - acc: 0.9502 - val_loss: 0.2320 - val_acc: 0.9072\n",
            "Epoch 19/100\n",
            "26624/26624 [==============================] - 5s 177us/sample - loss: 0.0859 - acc: 0.9689 - val_loss: 0.1701 - val_acc: 0.9385\n",
            "Epoch 20/100\n",
            "26624/26624 [==============================] - 5s 173us/sample - loss: 0.0616 - acc: 0.9776 - val_loss: 0.1518 - val_acc: 0.9473\n",
            "Epoch 21/100\n",
            "26624/26624 [==============================] - 5s 174us/sample - loss: 0.0492 - acc: 0.9828 - val_loss: 0.1519 - val_acc: 0.9512\n",
            "Epoch 22/100\n",
            "26624/26624 [==============================] - 5s 177us/sample - loss: 1.0547 - acc: 0.7151 - val_loss: 0.6742 - val_acc: 0.5176\n",
            "Epoch 23/100\n",
            "26624/26624 [==============================] - 5s 176us/sample - loss: 0.6536 - acc: 0.6052 - val_loss: 0.6207 - val_acc: 0.6523\n",
            "Epoch 24/100\n",
            "26624/26624 [==============================] - 5s 176us/sample - loss: 0.6227 - acc: 0.6426 - val_loss: 0.5992 - val_acc: 0.6777\n",
            "Epoch 25/100\n",
            "26624/26624 [==============================] - 5s 172us/sample - loss: 0.6022 - acc: 0.6581 - val_loss: 0.5798 - val_acc: 0.6826\n",
            "Epoch 26/100\n",
            "26624/26624 [==============================] - 5s 182us/sample - loss: 0.5830 - acc: 0.6692 - val_loss: 0.5686 - val_acc: 0.6943\n",
            "Epoch 27/100\n",
            "26624/26624 [==============================] - 5s 175us/sample - loss: 0.5758 - acc: 0.6751 - val_loss: 0.5735 - val_acc: 0.6924\n",
            "Epoch 28/100\n",
            "26624/26624 [==============================] - 5s 172us/sample - loss: 0.5452 - acc: 0.6965 - val_loss: 0.5172 - val_acc: 0.7031\n",
            "Epoch 29/100\n",
            "26624/26624 [==============================] - 5s 175us/sample - loss: 0.5274 - acc: 0.7103 - val_loss: 0.5158 - val_acc: 0.7188\n",
            "Epoch 30/100\n",
            "26624/26624 [==============================] - 4s 160us/sample - loss: 0.4921 - acc: 0.7376 - val_loss: 0.5897 - val_acc: 0.6445\n",
            "Epoch 31/100\n",
            "26624/26624 [==============================] - 5s 173us/sample - loss: 0.4931 - acc: 0.7415 - val_loss: 0.5115 - val_acc: 0.7363\n",
            "Epoch 32/100\n",
            "26624/26624 [==============================] - 5s 176us/sample - loss: 0.4328 - acc: 0.7799 - val_loss: 0.4473 - val_acc: 0.7578\n",
            "Epoch 33/100\n",
            "26624/26624 [==============================] - 5s 173us/sample - loss: 0.3911 - acc: 0.8085 - val_loss: 0.4110 - val_acc: 0.7920\n",
            "Epoch 34/100\n",
            "26624/26624 [==============================] - 5s 176us/sample - loss: 0.3517 - acc: 0.8346 - val_loss: 0.3768 - val_acc: 0.8184\n",
            "Epoch 35/100\n",
            "26624/26624 [==============================] - 5s 180us/sample - loss: 0.3343 - acc: 0.8430 - val_loss: 0.3393 - val_acc: 0.8506\n",
            "Epoch 36/100\n",
            "26624/26624 [==============================] - 5s 173us/sample - loss: 0.3278 - acc: 0.8482 - val_loss: 0.5577 - val_acc: 0.7324\n",
            "Epoch 37/100\n",
            "26624/26624 [==============================] - 5s 179us/sample - loss: 0.3240 - acc: 0.8482 - val_loss: 0.3108 - val_acc: 0.8564\n",
            "Epoch 38/100\n",
            "26624/26624 [==============================] - 5s 173us/sample - loss: 0.2400 - acc: 0.8968 - val_loss: 0.2842 - val_acc: 0.8936\n",
            "Epoch 39/100\n",
            "26624/26624 [==============================] - 5s 177us/sample - loss: 0.2149 - acc: 0.9093 - val_loss: 0.2545 - val_acc: 0.8896\n",
            "Epoch 40/100\n",
            "26624/26624 [==============================] - 5s 178us/sample - loss: 0.1767 - acc: 0.9286 - val_loss: 0.2459 - val_acc: 0.8867\n",
            "Epoch 41/100\n",
            "26624/26624 [==============================] - 5s 180us/sample - loss: 0.2898 - acc: 0.8854 - val_loss: 0.4378 - val_acc: 0.7979\n",
            "Epoch 42/100\n",
            "26624/26624 [==============================] - 5s 173us/sample - loss: 0.2864 - acc: 0.8739 - val_loss: 0.2474 - val_acc: 0.9014\n",
            "Epoch 43/100\n",
            "26624/26624 [==============================] - 5s 175us/sample - loss: 0.1525 - acc: 0.9430 - val_loss: 0.2071 - val_acc: 0.9072\n",
            "Epoch 44/100\n",
            "26624/26624 [==============================] - 5s 172us/sample - loss: 0.1131 - acc: 0.9594 - val_loss: 0.1848 - val_acc: 0.9248\n",
            "Epoch 45/100\n",
            "26624/26624 [==============================] - 5s 176us/sample - loss: 0.0906 - acc: 0.9685 - val_loss: 0.1677 - val_acc: 0.9404\n",
            "Epoch 46/100\n",
            "26624/26624 [==============================] - 4s 167us/sample - loss: 0.0903 - acc: 0.9665 - val_loss: 0.1182 - val_acc: 0.9570\n",
            "Epoch 47/100\n",
            "26624/26624 [==============================] - 5s 176us/sample - loss: 0.0680 - acc: 0.9764 - val_loss: 0.1051 - val_acc: 0.9648\n",
            "Epoch 48/100\n",
            "26624/26624 [==============================] - 5s 176us/sample - loss: 0.0511 - acc: 0.9840 - val_loss: 0.1052 - val_acc: 0.9629\n",
            "Epoch 49/100\n",
            "26624/26624 [==============================] - 5s 174us/sample - loss: 0.0444 - acc: 0.9855 - val_loss: 0.0840 - val_acc: 0.9707\n",
            "Epoch 50/100\n",
            "26624/26624 [==============================] - 5s 174us/sample - loss: 0.0431 - acc: 0.9864 - val_loss: 0.1107 - val_acc: 0.9580\n",
            "Epoch 51/100\n",
            "26624/26624 [==============================] - 5s 172us/sample - loss: 0.8613 - acc: 0.7271 - val_loss: 0.6673 - val_acc: 0.5674\n",
            "Epoch 52/100\n",
            "26624/26624 [==============================] - 5s 174us/sample - loss: 0.6390 - acc: 0.6242 - val_loss: 0.6152 - val_acc: 0.6641\n",
            "Epoch 53/100\n",
            "26624/26624 [==============================] - 5s 178us/sample - loss: 0.6104 - acc: 0.6568 - val_loss: 0.5893 - val_acc: 0.6865\n",
            "Epoch 54/100\n",
            "26624/26624 [==============================] - 5s 172us/sample - loss: 0.5812 - acc: 0.6753 - val_loss: 0.5697 - val_acc: 0.6885\n",
            "Epoch 55/100\n",
            "26624/26624 [==============================] - 5s 173us/sample - loss: 0.5557 - acc: 0.6884 - val_loss: 0.5299 - val_acc: 0.7188\n",
            "Epoch 56/100\n",
            "26624/26624 [==============================] - 5s 175us/sample - loss: 0.5198 - acc: 0.7132 - val_loss: 0.5349 - val_acc: 0.7080\n",
            "Epoch 57/100\n",
            "26624/26624 [==============================] - 5s 172us/sample - loss: 0.5024 - acc: 0.7289 - val_loss: 0.4855 - val_acc: 0.7432\n",
            "Epoch 58/100\n",
            "26624/26624 [==============================] - 5s 182us/sample - loss: 0.4844 - acc: 0.7432 - val_loss: 0.4598 - val_acc: 0.7676\n",
            "Epoch 59/100\n",
            "26624/26624 [==============================] - 5s 182us/sample - loss: 0.4393 - acc: 0.7780 - val_loss: 0.4844 - val_acc: 0.7441\n",
            "Epoch 60/100\n",
            "26624/26624 [==============================] - 5s 181us/sample - loss: 0.4084 - acc: 0.7975 - val_loss: 0.3895 - val_acc: 0.8330\n",
            "Epoch 61/100\n",
            "26624/26624 [==============================] - 5s 169us/sample - loss: 0.3948 - acc: 0.8044 - val_loss: 0.5495 - val_acc: 0.7002\n",
            "Epoch 62/100\n",
            "26624/26624 [==============================] - 5s 177us/sample - loss: 0.4534 - acc: 0.7633 - val_loss: 0.4198 - val_acc: 0.7852\n",
            "Epoch 63/100\n",
            "26624/26624 [==============================] - 5s 180us/sample - loss: 0.3648 - acc: 0.8200 - val_loss: 0.3807 - val_acc: 0.8125\n",
            "Epoch 64/100\n",
            "26624/26624 [==============================] - 5s 179us/sample - loss: 0.3013 - acc: 0.8613 - val_loss: 0.3172 - val_acc: 0.8535\n",
            "Epoch 65/100\n",
            "26624/26624 [==============================] - 5s 177us/sample - loss: 0.2767 - acc: 0.8764 - val_loss: 0.2990 - val_acc: 0.8623\n",
            "Epoch 66/100\n",
            "26624/26624 [==============================] - 5s 179us/sample - loss: 0.2412 - acc: 0.8924 - val_loss: 0.2816 - val_acc: 0.8701\n",
            "Epoch 67/100\n",
            "26624/26624 [==============================] - 5s 179us/sample - loss: 0.1978 - acc: 0.9157 - val_loss: 0.2417 - val_acc: 0.8955\n",
            "Epoch 68/100\n",
            "26624/26624 [==============================] - 5s 183us/sample - loss: 0.2455 - acc: 0.8881 - val_loss: 0.2920 - val_acc: 0.8623\n",
            "Epoch 69/100\n",
            "26624/26624 [==============================] - 5s 178us/sample - loss: 0.1751 - acc: 0.9262 - val_loss: 0.2353 - val_acc: 0.9023\n",
            "Epoch 70/100\n",
            "26624/26624 [==============================] - 5s 175us/sample - loss: 0.1601 - acc: 0.9316 - val_loss: 0.2945 - val_acc: 0.8750\n",
            "Epoch 71/100\n",
            "26624/26624 [==============================] - 5s 177us/sample - loss: 0.1573 - acc: 0.9329 - val_loss: 0.1880 - val_acc: 0.9238\n",
            "Epoch 72/100\n",
            "26624/26624 [==============================] - 5s 175us/sample - loss: 0.1242 - acc: 0.9503 - val_loss: 0.1847 - val_acc: 0.9258\n",
            "Epoch 73/100\n",
            "26624/26624 [==============================] - 5s 179us/sample - loss: 0.1195 - acc: 0.9508 - val_loss: 0.1761 - val_acc: 0.9287\n",
            "Epoch 74/100\n",
            "26624/26624 [==============================] - 5s 174us/sample - loss: 0.0956 - acc: 0.9631 - val_loss: 0.1486 - val_acc: 0.9404\n",
            "Epoch 75/100\n",
            "26624/26624 [==============================] - 5s 173us/sample - loss: 0.0756 - acc: 0.9725 - val_loss: 0.1607 - val_acc: 0.9385\n",
            "Epoch 76/100\n",
            "26624/26624 [==============================] - 5s 178us/sample - loss: 0.0629 - acc: 0.9764 - val_loss: 0.1211 - val_acc: 0.9551\n",
            "Epoch 77/100\n",
            "26624/26624 [==============================] - 5s 180us/sample - loss: 0.0542 - acc: 0.9804 - val_loss: 0.1081 - val_acc: 0.9639\n",
            "Epoch 78/100\n",
            "26624/26624 [==============================] - 5s 177us/sample - loss: 0.0425 - acc: 0.9858 - val_loss: 0.1178 - val_acc: 0.9541\n",
            "Epoch 79/100\n",
            "26624/26624 [==============================] - 5s 174us/sample - loss: 0.0383 - acc: 0.9875 - val_loss: 0.1176 - val_acc: 0.9619\n",
            "Epoch 80/100\n",
            "26624/26624 [==============================] - 5s 176us/sample - loss: 0.0337 - acc: 0.9887 - val_loss: 0.0899 - val_acc: 0.9707\n",
            "Epoch 81/100\n",
            "26624/26624 [==============================] - 5s 179us/sample - loss: 0.0389 - acc: 0.9873 - val_loss: 0.1155 - val_acc: 0.9629\n",
            "Epoch 82/100\n",
            "26624/26624 [==============================] - 5s 174us/sample - loss: 0.0331 - acc: 0.9892 - val_loss: 0.1071 - val_acc: 0.9668\n",
            "Epoch 83/100\n",
            "26624/26624 [==============================] - 5s 169us/sample - loss: 0.0337 - acc: 0.9892 - val_loss: 0.1451 - val_acc: 0.9570\n",
            "Epoch 84/100\n",
            "26624/26624 [==============================] - 5s 179us/sample - loss: 0.0740 - acc: 0.9722 - val_loss: 0.1761 - val_acc: 0.9492\n",
            "Epoch 85/100\n",
            "26624/26624 [==============================] - 5s 177us/sample - loss: 0.1511 - acc: 0.9491 - val_loss: 0.4950 - val_acc: 0.8408\n",
            "Epoch 86/100\n",
            "26624/26624 [==============================] - 5s 180us/sample - loss: 0.2021 - acc: 0.9251 - val_loss: 0.2094 - val_acc: 0.9160\n",
            "Epoch 87/100\n",
            "26624/26624 [==============================] - 5s 169us/sample - loss: 0.0633 - acc: 0.9792 - val_loss: 0.0963 - val_acc: 0.9668\n",
            "Epoch 88/100\n",
            "26624/26624 [==============================] - 5s 173us/sample - loss: 0.0273 - acc: 0.9937 - val_loss: 0.0791 - val_acc: 0.9707\n",
            "Epoch 89/100\n",
            "26624/26624 [==============================] - 5s 176us/sample - loss: 0.0208 - acc: 0.9947 - val_loss: 0.0601 - val_acc: 0.9805\n",
            "Epoch 90/100\n",
            "26624/26624 [==============================] - 5s 175us/sample - loss: 0.0139 - acc: 0.9974 - val_loss: 0.0412 - val_acc: 0.9863\n",
            "Epoch 91/100\n",
            "26624/26624 [==============================] - 5s 178us/sample - loss: 0.0104 - acc: 0.9984 - val_loss: 0.0496 - val_acc: 0.9814\n",
            "Epoch 92/100\n",
            "26624/26624 [==============================] - 5s 174us/sample - loss: 0.0084 - acc: 0.9987 - val_loss: 0.0405 - val_acc: 0.9883\n",
            "Epoch 93/100\n",
            "26624/26624 [==============================] - 5s 177us/sample - loss: 0.0070 - acc: 0.9991 - val_loss: 0.0524 - val_acc: 0.9824\n",
            "Epoch 94/100\n",
            "26624/26624 [==============================] - 5s 174us/sample - loss: 0.0060 - acc: 0.9992 - val_loss: 0.0461 - val_acc: 0.9844\n",
            "Epoch 95/100\n",
            "26624/26624 [==============================] - 5s 191us/sample - loss: 0.0053 - acc: 0.9993 - val_loss: 0.0444 - val_acc: 0.9883\n",
            "Epoch 96/100\n",
            "26624/26624 [==============================] - 4s 168us/sample - loss: 0.0046 - acc: 0.9995 - val_loss: 0.0460 - val_acc: 0.9873\n",
            "Epoch 97/100\n",
            "26624/26624 [==============================] - 4s 167us/sample - loss: 0.0042 - acc: 0.9997 - val_loss: 0.0435 - val_acc: 0.9883\n",
            "Epoch 98/100\n",
            "26624/26624 [==============================] - 5s 171us/sample - loss: 0.0039 - acc: 0.9997 - val_loss: 0.0411 - val_acc: 0.9844\n",
            "Epoch 99/100\n",
            "26624/26624 [==============================] - 5s 176us/sample - loss: 0.0036 - acc: 0.9995 - val_loss: 0.0495 - val_acc: 0.9834\n",
            "Epoch 100/100\n",
            "26624/26624 [==============================] - 5s 175us/sample - loss: 0.0032 - acc: 0.9996 - val_loss: 0.0492 - val_acc: 0.9844\n"
          ],
          "name": "stdout"
        }
      ]
    },
    {
      "cell_type": "markdown",
      "metadata": {
        "id": "nzx4-kyYbGfI",
        "colab_type": "text"
      },
      "source": [
        "### Save Model Weights"
      ]
    },
    {
      "cell_type": "code",
      "metadata": {
        "id": "t1iTz86KbNed",
        "colab_type": "code",
        "colab": {
          "base_uri": "https://localhost:8080/",
          "height": 176
        },
        "outputId": "27fcbb8d-0b55-469d-86e3-f043352be53d"
      },
      "source": [
        "model.save_weights(os.path.join(PARAMS.MODEL_DIR,'{}_final.h5'.format(PARAMS.MODEL_NAME)))"
      ],
      "execution_count": 8,
      "outputs": [
        {
          "output_type": "stream",
          "text": [
            "INFO:tensorflow:Copying TPU weights to the CPU\n",
            "INFO:tensorflow:TPU -> CPU lr: 0.0010000000474974513\n",
            "INFO:tensorflow:TPU -> CPU beta_1: 0.8999999761581421\n",
            "INFO:tensorflow:TPU -> CPU beta_2: 0.9990000128746033\n",
            "INFO:tensorflow:TPU -> CPU decay: 0.0\n",
            "INFO:tensorflow:TPU -> CPU epsilon: 1e-07\n",
            "WARNING:tensorflow:Cannot update non-variable config: epsilon\n",
            "INFO:tensorflow:TPU -> CPU amsgrad: False\n",
            "WARNING:tensorflow:Cannot update non-variable config: amsgrad\n"
          ],
          "name": "stdout"
        }
      ]
    },
    {
      "cell_type": "markdown",
      "metadata": {
        "id": "J1M9sjHIbSnf",
        "colab_type": "text"
      },
      "source": [
        "### Plot Training Histoty"
      ]
    },
    {
      "cell_type": "code",
      "metadata": {
        "id": "ndNSS7XIbXaK",
        "colab_type": "code",
        "outputId": "d87f634c-100b-41d8-b100-931884ae6a97",
        "colab": {
          "base_uri": "https://localhost:8080/",
          "height": 294
        }
      },
      "source": [
        "import matplotlib.pyplot as plt\n",
        "%matplotlib inline\n",
        "plt.plot(history.history['loss'])\n",
        "plt.plot(history.history['val_loss'])\n",
        "plt.title('LOSS History')\n",
        "plt.ylabel('loss')\n",
        "plt.xlabel('epoch')\n",
        "plt.legend(['train', 'validation'], loc='upper left')\n",
        "plt.savefig(os.path.join(PARAMS.MODEL_DIR,'{}_history.png'.format(PARAMS.MODEL_NAME)))"
      ],
      "execution_count": 9,
      "outputs": [
        {
          "output_type": "display_data",
          "data": {
            "image/png": "[encoded data removed]",
            "text/plain": [
              "<Figure size 432x288 with 1 Axes>"
            ]
          },
          "metadata": {
            "tags": []
          }
        }
      ]
    }
  ]
}